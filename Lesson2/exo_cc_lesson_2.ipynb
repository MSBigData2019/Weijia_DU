{
 "cells": [
  {
   "cell_type": "code",
   "execution_count": 95,
   "metadata": {},
   "outputs": [],
   "source": [
    "from bs4 import BeautifulSoup\n",
    "import requests\n",
    "import pandas as pd\n",
    "import re"
   ]
  },
  {
   "cell_type": "code",
   "execution_count": 3,
   "metadata": {},
   "outputs": [],
   "source": [
    "page_link = 'https://www.darty.com/nav/extra/list?s=def&cat=756&m=DELL-ASUS'\n",
    "page_response = requests.get(page_link, timeout=5)\n",
    "page_content = BeautifulSoup(page_response.content, \"html.parser\")\n",
    "#print(page_content)"
   ]
  },
  {
   "cell_type": "code",
   "execution_count": 60,
   "metadata": {},
   "outputs": [
    {
     "data": {
      "text/plain": [
       "567"
      ]
     },
     "execution_count": 60,
     "metadata": {},
     "output_type": "execute_result"
    }
   ],
   "source": [
    "nombre = page_content.find('div',class_='list_number_product').find('b').text\n",
    "nombre_modèle = int(nombre.split()[0])\n",
    "nombre_modèle"
   ]
  },
  {
   "cell_type": "code",
   "execution_count": 71,
   "metadata": {},
   "outputs": [
    {
     "data": {
      "text/plain": [
       "30"
      ]
     },
     "execution_count": 71,
     "metadata": {},
     "output_type": "execute_result"
    }
   ],
   "source": [
    "nombre_par_page = int(page_content.find('div', id=\"darty_product_list_results_per_page\").find('b').text)\n",
    "nombre_par_page"
   ]
  },
  {
   "cell_type": "code",
   "execution_count": 68,
   "metadata": {},
   "outputs": [
    {
     "data": {
      "text/plain": [
       "19"
      ]
     },
     "execution_count": 68,
     "metadata": {},
     "output_type": "execute_result"
    }
   ],
   "source": [
    "nombre_page = (nombre_modèle//))+1\n",
    "nombre_page"
   ]
  },
  {
   "cell_type": "code",
   "execution_count": 73,
   "metadata": {},
   "outputs": [],
   "source": [
    "liste_address = []\n",
    "for i in range(nombre_page):\n",
    "    address = 'https://www.darty.com/nav/extra/list?s=def&cat=756&m=DELL-ASUS'\n",
    "    if (i==0) :\n",
    "        address = address\n",
    "    else :\n",
    "        address = address + '&o=' + str(i*nombre_par_page)\n",
    "    liste_address.append(address)"
   ]
  },
  {
   "cell_type": "code",
   "execution_count": null,
   "metadata": {},
   "outputs": [],
   "source": [
    "d = {'nom': [], \n",
    "      'discount': []\n",
    "     }\n",
    "df = pd.DataFrame(data=d)\n",
    "\n",
    "for i in range(len(liste_address)) :\n",
    "    page_link = liste_address[i]\n",
    "    page_response = requests.get(page_link, timeout=5)\n",
    "    page_content = BeautifulSoup(page_response.content, \"html.parser\")\n",
    "    for j in range(30):\n",
    "        nom = page_content.find('div', attrs={'data-index': str(i*nombre_par_page + j)}).find('div',class_='prd-name').text\n",
    "        discount = page_content.find('div', attrs={'data-index': str(i*nombre_par_page + j)}).find('p',class_='darty_prix_barre_remise darty_small separator_top')\n",
    "        if (str(discount) == 'None'):\n",
    "            discount =''\n",
    "        else :\n",
    "            discount = discount.text \n",
    "        df = df.append({'nom' : nom,\n",
    "                        'discount':discount}, ignore_index=True)"
   ]
  },
  {
   "cell_type": "code",
   "execution_count": 94,
   "metadata": {},
   "outputs": [
    {
     "data": {
      "text/html": [
       "<div>\n",
       "<style scoped>\n",
       "    .dataframe tbody tr th:only-of-type {\n",
       "        vertical-align: middle;\n",
       "    }\n",
       "\n",
       "    .dataframe tbody tr th {\n",
       "        vertical-align: top;\n",
       "    }\n",
       "\n",
       "    .dataframe thead th {\n",
       "        text-align: right;\n",
       "    }\n",
       "</style>\n",
       "<table border=\"1\" class=\"dataframe\">\n",
       "  <thead>\n",
       "    <tr style=\"text-align: right;\">\n",
       "      <th></th>\n",
       "      <th>nom</th>\n",
       "      <th>discount</th>\n",
       "    </tr>\n",
       "  </thead>\n",
       "  <tbody>\n",
       "    <tr>\n",
       "      <th>0</th>\n",
       "      <td>Asus E203NA-FD084T</td>\n",
       "      <td>- 21%</td>\n",
       "    </tr>\n",
       "    <tr>\n",
       "      <th>1</th>\n",
       "      <td>Asus S430UA-EB135T</td>\n",
       "      <td></td>\n",
       "    </tr>\n",
       "    <tr>\n",
       "      <th>2</th>\n",
       "      <td>Asus VIVOBOOK S530UA-BQ296T</td>\n",
       "      <td></td>\n",
       "    </tr>\n",
       "    <tr>\n",
       "      <th>3</th>\n",
       "      <td>Asus ZENBOOK UX430UA-GV049T</td>\n",
       "      <td>- 11%</td>\n",
       "    </tr>\n",
       "    <tr>\n",
       "      <th>4</th>\n",
       "      <td>Asus R702UB-BX122T</td>\n",
       "      <td></td>\n",
       "    </tr>\n",
       "  </tbody>\n",
       "</table>\n",
       "</div>"
      ],
      "text/plain": [
       "                           nom discount\n",
       "0           Asus E203NA-FD084T    - 21%\n",
       "1           Asus S430UA-EB135T         \n",
       "2  Asus VIVOBOOK S530UA-BQ296T         \n",
       "3  Asus ZENBOOK UX430UA-GV049T    - 11%\n",
       "4           Asus R702UB-BX122T         "
      ]
     },
     "execution_count": 94,
     "metadata": {},
     "output_type": "execute_result"
    }
   ],
   "source": [
    "df.head(5)"
   ]
  },
  {
   "cell_type": "code",
   "execution_count": 113,
   "metadata": {},
   "outputs": [],
   "source": [
    "df['discount_number'] = list(map(lambda x : int(re.sub('\\W+','', x)) if x != '' else 0 , df.discount))"
   ]
  },
  {
   "cell_type": "code",
   "execution_count": 117,
   "metadata": {},
   "outputs": [
    {
     "data": {
      "text/html": [
       "<div>\n",
       "<style scoped>\n",
       "    .dataframe tbody tr th:only-of-type {\n",
       "        vertical-align: middle;\n",
       "    }\n",
       "\n",
       "    .dataframe tbody tr th {\n",
       "        vertical-align: top;\n",
       "    }\n",
       "\n",
       "    .dataframe thead th {\n",
       "        text-align: right;\n",
       "    }\n",
       "</style>\n",
       "<table border=\"1\" class=\"dataframe\">\n",
       "  <thead>\n",
       "    <tr style=\"text-align: right;\">\n",
       "      <th></th>\n",
       "      <th>nom</th>\n",
       "      <th>discount</th>\n",
       "      <th>discount_number</th>\n",
       "    </tr>\n",
       "  </thead>\n",
       "  <tbody>\n",
       "    <tr>\n",
       "      <th>513</th>\n",
       "      <td>Dell E7470 - i7 - 8go - 240go ssd - full-hd - w10</td>\n",
       "      <td>- 50%</td>\n",
       "      <td>50</td>\n",
       "    </tr>\n",
       "    <tr>\n",
       "      <th>145</th>\n",
       "      <td>Dell E6330 - i5 - 4 go - 320go hdd - windows 7</td>\n",
       "      <td>- 47%</td>\n",
       "      <td>47</td>\n",
       "    </tr>\n",
       "    <tr>\n",
       "      <th>355</th>\n",
       "      <td>Dell E6430 - i7-3540m - 4go -240go ssd - w10</td>\n",
       "      <td>- 45%</td>\n",
       "      <td>45</td>\n",
       "    </tr>\n",
       "    <tr>\n",
       "      <th>514</th>\n",
       "      <td>Dell M6800 - i7 -16go - 120go ssd - k3100m - w10</td>\n",
       "      <td>- 43%</td>\n",
       "      <td>43</td>\n",
       "    </tr>\n",
       "    <tr>\n",
       "      <th>518</th>\n",
       "      <td>Dell M4800 - i7 - 16go - ssd 120go - k2100 - w10</td>\n",
       "      <td>- 40%</td>\n",
       "      <td>40</td>\n",
       "    </tr>\n",
       "  </tbody>\n",
       "</table>\n",
       "</div>"
      ],
      "text/plain": [
       "                                                   nom discount  \\\n",
       "513  Dell E7470 - i7 - 8go - 240go ssd - full-hd - w10    - 50%   \n",
       "145     Dell E6330 - i5 - 4 go - 320go hdd - windows 7    - 47%   \n",
       "355       Dell E6430 - i7-3540m - 4go -240go ssd - w10    - 45%   \n",
       "514   Dell M6800 - i7 -16go - 120go ssd - k3100m - w10    - 43%   \n",
       "518   Dell M4800 - i7 - 16go - ssd 120go - k2100 - w10    - 40%   \n",
       "\n",
       "     discount_number  \n",
       "513               50  \n",
       "145               47  \n",
       "355               45  \n",
       "514               43  \n",
       "518               40  "
      ]
     },
     "execution_count": 117,
     "metadata": {},
     "output_type": "execute_result"
    }
   ],
   "source": [
    "df.sort_values(['discount_number'],ascending=0).head(5)"
   ]
  }
 ],
 "metadata": {
  "kernelspec": {
   "display_name": "Python 3",
   "language": "python",
   "name": "python3"
  },
  "language_info": {
   "codemirror_mode": {
    "name": "ipython",
    "version": 3
   },
   "file_extension": ".py",
   "mimetype": "text/x-python",
   "name": "python",
   "nbconvert_exporter": "python",
   "pygments_lexer": "ipython3",
   "version": "3.6.5"
  }
 },
 "nbformat": 4,
 "nbformat_minor": 2
}
