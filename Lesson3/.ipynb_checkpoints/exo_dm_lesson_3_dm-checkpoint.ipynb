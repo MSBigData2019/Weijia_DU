{
 "cells": [
  {
   "cell_type": "code",
   "execution_count": 1,
   "metadata": {},
   "outputs": [],
   "source": [
    "from bs4 import BeautifulSoup\n",
    "import requests\n",
    "import pandas as pd"
   ]
  },
  {
   "cell_type": "code",
   "execution_count": 2,
   "metadata": {},
   "outputs": [],
   "source": [
    "page_link='https://gist.github.com/paulmillr/2657075'\n",
    "page_response = requests.get(page_link, timeout=5)\n",
    "page_content = BeautifulSoup(page_response.content, \"html.parser\")"
   ]
  },
  {
   "cell_type": "code",
   "execution_count": 6,
   "metadata": {},
   "outputs": [],
   "source": [
    "table_content = page_content.find(\"table\", cellspacing=\"0\").find_all(\"tr\")"
   ]
  },
  {
   "cell_type": "code",
   "execution_count": 18,
   "metadata": {},
   "outputs": [],
   "source": [
    "list_user = []\n",
    "for i in table_content[1:]:\n",
    "    id = (i.find_all('a'))[0].text\n",
    "    list_user.append(id)"
   ]
  },
  {
   "cell_type": "code",
   "execution_count": 88,
   "metadata": {},
   "outputs": [],
   "source": [
    "import requests\n",
    "import json\n",
    "\n",
    "moi = 'WeijiaDu'\n",
    "token = '3ddd9f4f1061548606ab7d2c9ef8e5e39d43f640'"
   ]
  },
  {
   "cell_type": "code",
   "execution_count": 136,
   "metadata": {
    "scrolled": true
   },
   "outputs": [],
   "source": [
    "score = []\n",
    "for name in list_user :\n",
    "    #print(name)\n",
    "\n",
    "    star_sum = 0\n",
    "    repo_sum = 0\n",
    "    \n",
    "    link = 'https://api.github.com/users/' + name + '/repos'\n",
    "    resp = requests.get(link,auth=(moi, token))\n",
    "    if ('last' not in resp.links.keys()):\n",
    "        num_page = 1\n",
    "    else :\n",
    "        num_page = int((resp.links['last']['url'].split(\"=\"))[1])\n",
    "\n",
    "    for page in range(num_page):\n",
    "        #print(page+1)\n",
    "        link = 'https://api.github.com/users/' + name + '/repos' + '?page=' + str(page+1)\n",
    "        resp = requests.get(link,auth=(moi, token))\n",
    "        content = json.loads(resp.content)\n",
    "\n",
    "        for i in content:\n",
    "            #print(list(content).index(i))\n",
    "            star_sum = star_sum + i['stargazers_count']\n",
    "            \n",
    "        repo_sum = repo_sum + len(content)\n",
    "    if (repo_sum==0):\n",
    "        score.append(0) \n",
    "    else :\n",
    "        score.append(star_sum/repo_sum)       "
   ]
  },
  {
   "cell_type": "code",
   "execution_count": 138,
   "metadata": {},
   "outputs": [],
   "source": [
    "df = pd.DataFrame({\n",
    "    'User' : list_user,\n",
    "    'Score' : score\n",
    "})"
   ]
  },
  {
   "cell_type": "code",
   "execution_count": 144,
   "metadata": {},
   "outputs": [
    {
     "data": {
      "text/html": [
       "<div>\n",
       "<style scoped>\n",
       "    .dataframe tbody tr th:only-of-type {\n",
       "        vertical-align: middle;\n",
       "    }\n",
       "\n",
       "    .dataframe tbody tr th {\n",
       "        vertical-align: top;\n",
       "    }\n",
       "\n",
       "    .dataframe thead th {\n",
       "        text-align: right;\n",
       "    }\n",
       "</style>\n",
       "<table border=\"1\" class=\"dataframe\">\n",
       "  <thead>\n",
       "    <tr style=\"text-align: right;\">\n",
       "      <th></th>\n",
       "      <th>User</th>\n",
       "      <th>Score</th>\n",
       "    </tr>\n",
       "  </thead>\n",
       "  <tbody>\n",
       "    <tr>\n",
       "      <th>225</th>\n",
       "      <td>bailicangdu</td>\n",
       "      <td>3503.461538</td>\n",
       "    </tr>\n",
       "    <tr>\n",
       "      <th>18</th>\n",
       "      <td>kamranahmedse</td>\n",
       "      <td>2275.000000</td>\n",
       "    </tr>\n",
       "    <tr>\n",
       "      <th>142</th>\n",
       "      <td>vinta</td>\n",
       "      <td>1830.156250</td>\n",
       "    </tr>\n",
       "    <tr>\n",
       "      <th>117</th>\n",
       "      <td>mrdoob</td>\n",
       "      <td>1597.200000</td>\n",
       "    </tr>\n",
       "    <tr>\n",
       "      <th>194</th>\n",
       "      <td>IanLunn</td>\n",
       "      <td>1402.000000</td>\n",
       "    </tr>\n",
       "    <tr>\n",
       "      <th>44</th>\n",
       "      <td>sebastianbergmann</td>\n",
       "      <td>1388.183333</td>\n",
       "    </tr>\n",
       "    <tr>\n",
       "      <th>230</th>\n",
       "      <td>junyanz</td>\n",
       "      <td>1373.071429</td>\n",
       "    </tr>\n",
       "    <tr>\n",
       "      <th>153</th>\n",
       "      <td>nolimits4web</td>\n",
       "      <td>1338.857143</td>\n",
       "    </tr>\n",
       "    <tr>\n",
       "      <th>195</th>\n",
       "      <td>ruanyf</td>\n",
       "      <td>1261.377358</td>\n",
       "    </tr>\n",
       "    <tr>\n",
       "      <th>109</th>\n",
       "      <td>JakeWharton</td>\n",
       "      <td>1072.940000</td>\n",
       "    </tr>\n",
       "  </tbody>\n",
       "</table>\n",
       "</div>"
      ],
      "text/plain": [
       "                  User        Score\n",
       "225        bailicangdu  3503.461538\n",
       "18       kamranahmedse  2275.000000\n",
       "142              vinta  1830.156250\n",
       "117             mrdoob  1597.200000\n",
       "194            IanLunn  1402.000000\n",
       "44   sebastianbergmann  1388.183333\n",
       "230            junyanz  1373.071429\n",
       "153       nolimits4web  1338.857143\n",
       "195             ruanyf  1261.377358\n",
       "109        JakeWharton  1072.940000"
      ]
     },
     "execution_count": 144,
     "metadata": {},
     "output_type": "execute_result"
    }
   ],
   "source": [
    "df.sort_values(['Score'], ascending=0).head(10)"
   ]
  }
 ],
 "metadata": {
  "kernelspec": {
   "display_name": "Python 3",
   "language": "python",
   "name": "python3"
  },
  "language_info": {
   "codemirror_mode": {
    "name": "ipython",
    "version": 3
   },
   "file_extension": ".py",
   "mimetype": "text/x-python",
   "name": "python",
   "nbconvert_exporter": "python",
   "pygments_lexer": "ipython3",
   "version": "3.6.5"
  }
 },
 "nbformat": 4,
 "nbformat_minor": 2
}
